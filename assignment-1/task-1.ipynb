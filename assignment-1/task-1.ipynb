{
 "cells": [
  {
   "cell_type": "markdown",
   "metadata": {},
   "source": [
    "# Assignment 1 Task 1\n",
    "## Objective\n",
    "Implement Insertion, Merge, Heap and Quicksort, record the steps and plot the steps as a function to the input size (n)"
   ]
  },
  {
   "cell_type": "code",
   "execution_count": 30,
   "metadata": {},
   "outputs": [
    {
     "name": "stdout",
     "output_type": "stream",
     "text": [
      "[19, 80, 18, 58, 79, 59, 82, 42, 16, 65]\n"
     ]
    }
   ],
   "source": [
    "import random\n",
    "input = random.sample(range(100), 10)\n",
    "print(input)"
   ]
  },
  {
   "cell_type": "markdown",
   "metadata": {},
   "source": [
    "### Insertion sort"
   ]
  },
  {
   "cell_type": "code",
   "execution_count": 31,
   "metadata": {},
   "outputs": [
    {
     "name": "stdout",
     "output_type": "stream",
     "text": [
      "([16, 18, 19, 42, 58, 59, 65, 79, 80, 82], 22)\n"
     ]
    }
   ],
   "source": [
    "def insertion_sort(input):\n",
    "    steps = 0\n",
    "    for j in range(1, len(input)):\n",
    "        key = input[j]\n",
    "        i = j - 1\n",
    "        while i >= 0 and input[i] > key:\n",
    "            steps += 1\n",
    "            input[i + 1] = input[i]\n",
    "            i = i - 1\n",
    "        input[i + 1] = key\n",
    "    return input, steps\n",
    "\n",
    "print(insertion_sort(input.copy()))\n"
   ]
  },
  {
   "cell_type": "markdown",
   "metadata": {},
   "source": [
    "### Merge sort"
   ]
  },
  {
   "cell_type": "code",
   "execution_count": 35,
   "metadata": {},
   "outputs": [
    {
     "name": "stdout",
     "output_type": "stream",
     "text": [
      "[16, 18, 19, 42, 58, 59, 65, 79, 80, 82]\n"
     ]
    }
   ],
   "source": [
    "def merge_sort(input):\n",
    "    steps = 0\n",
    "    if len(input) > 1:\n",
    "        mid = len(input) // 2\n",
    "        left = input[:mid]\n",
    "        right = input[mid:]\n",
    "        sorted_l = merge_sort(left)\n",
    "        sorted_r = merge_sort(right)\n",
    "        sorted = merge(sorted_l, sorted_r)\n",
    "        return sorted\n",
    "    return input\n",
    "\n",
    "def merge(left, right):\n",
    "    merged = []\n",
    "    left.append(float('inf'))\n",
    "    right.append(float('inf'))\n",
    "    i, j = 0, 0\n",
    "    for _ in range(len(left) + len(right) - 2):\n",
    "        if left[i] <= right[j]:\n",
    "            merged.append(left[i])\n",
    "            i += 1\n",
    "        else:\n",
    "            merged.append(right[j])\n",
    "            j += 1\n",
    "    return merged\n",
    "\n",
    "\n",
    "print(merge_sort(input.copy()))\n"
   ]
  },
  {
   "cell_type": "markdown",
   "metadata": {},
   "source": [
    "### Heap sort"
   ]
  },
  {
   "cell_type": "code",
   "execution_count": null,
   "metadata": {},
   "outputs": [],
   "source": []
  }
 ],
 "metadata": {
  "kernelspec": {
   "display_name": "Python 3",
   "language": "python",
   "name": "python3"
  },
  "language_info": {
   "codemirror_mode": {
    "name": "ipython",
    "version": 3
   },
   "file_extension": ".py",
   "mimetype": "text/x-python",
   "name": "python",
   "nbconvert_exporter": "python",
   "pygments_lexer": "ipython3",
   "version": "3.10.12"
  }
 },
 "nbformat": 4,
 "nbformat_minor": 2
}
